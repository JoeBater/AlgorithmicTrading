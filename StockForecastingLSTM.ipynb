{
 "cells": [
  {
   "cell_type": "code",
   "execution_count": 1,
   "metadata": {},
   "outputs": [],
   "source": [
    "# import libraries\n",
    "import math\n",
    "import pandas as pd\n",
    "import matplotlib.pyplot as plt\n",
    "import numpy as np"
   ]
  },
  {
   "cell_type": "code",
   "execution_count": 2,
   "metadata": {},
   "outputs": [],
   "source": [
    "# get stock data\n",
    "#import pandas_datareader as pdr\n",
    "#df = pdr.DataReader('AAPL', data_source='yahoo', start='2017-01-01', end='2019-12-31')\n",
    "#df"
   ]
  },
  {
   "cell_type": "code",
   "execution_count": 3,
   "metadata": {},
   "outputs": [
    {
     "data": {
      "text/html": [
       "<div>\n",
       "<style scoped>\n",
       "    .dataframe tbody tr th:only-of-type {\n",
       "        vertical-align: middle;\n",
       "    }\n",
       "\n",
       "    .dataframe tbody tr th {\n",
       "        vertical-align: top;\n",
       "    }\n",
       "\n",
       "    .dataframe thead th {\n",
       "        text-align: right;\n",
       "    }\n",
       "</style>\n",
       "<table border=\"1\" class=\"dataframe\">\n",
       "  <thead>\n",
       "    <tr style=\"text-align: right;\">\n",
       "      <th></th>\n",
       "      <th>Date</th>\n",
       "      <th>Stock1</th>\n",
       "      <th>Stock2</th>\n",
       "      <th>Stock3</th>\n",
       "      <th>Stock4</th>\n",
       "      <th>Stock5</th>\n",
       "      <th>Stock6</th>\n",
       "    </tr>\n",
       "  </thead>\n",
       "  <tbody>\n",
       "    <tr>\n",
       "      <td>0</td>\n",
       "      <td>01/01/2019</td>\n",
       "      <td>177.0</td>\n",
       "      <td>17</td>\n",
       "      <td>22.0</td>\n",
       "      <td>178.0</td>\n",
       "      <td>178.0</td>\n",
       "      <td>632.0</td>\n",
       "    </tr>\n",
       "    <tr>\n",
       "      <td>1</td>\n",
       "      <td>02/01/2019</td>\n",
       "      <td>84.0</td>\n",
       "      <td>13</td>\n",
       "      <td>14.0</td>\n",
       "      <td>365.0</td>\n",
       "      <td>365.0</td>\n",
       "      <td>859.0</td>\n",
       "    </tr>\n",
       "    <tr>\n",
       "      <td>2</td>\n",
       "      <td>03/01/2019</td>\n",
       "      <td>104.0</td>\n",
       "      <td>20</td>\n",
       "      <td>34.0</td>\n",
       "      <td>6117.0</td>\n",
       "      <td>6117.0</td>\n",
       "      <td>840.0</td>\n",
       "    </tr>\n",
       "    <tr>\n",
       "      <td>3</td>\n",
       "      <td>04/01/2019</td>\n",
       "      <td>91.0</td>\n",
       "      <td>25</td>\n",
       "      <td>17.0</td>\n",
       "      <td>1451.0</td>\n",
       "      <td>1451.0</td>\n",
       "      <td>787.0</td>\n",
       "    </tr>\n",
       "    <tr>\n",
       "      <td>4</td>\n",
       "      <td>05/01/2019</td>\n",
       "      <td>130.0</td>\n",
       "      <td>7</td>\n",
       "      <td>25.0</td>\n",
       "      <td>1359.0</td>\n",
       "      <td>1359.0</td>\n",
       "      <td>611.0</td>\n",
       "    </tr>\n",
       "    <tr>\n",
       "      <td>...</td>\n",
       "      <td>...</td>\n",
       "      <td>...</td>\n",
       "      <td>...</td>\n",
       "      <td>...</td>\n",
       "      <td>...</td>\n",
       "      <td>...</td>\n",
       "      <td>...</td>\n",
       "    </tr>\n",
       "    <tr>\n",
       "      <td>86</td>\n",
       "      <td>28/03/2019</td>\n",
       "      <td>281.0</td>\n",
       "      <td>47</td>\n",
       "      <td>30.0</td>\n",
       "      <td>3348.0</td>\n",
       "      <td>3348.0</td>\n",
       "      <td>646.0</td>\n",
       "    </tr>\n",
       "    <tr>\n",
       "      <td>87</td>\n",
       "      <td>29/03/2019</td>\n",
       "      <td>283.0</td>\n",
       "      <td>42</td>\n",
       "      <td>25.0</td>\n",
       "      <td>4958.0</td>\n",
       "      <td>4958.0</td>\n",
       "      <td>607.0</td>\n",
       "    </tr>\n",
       "    <tr>\n",
       "      <td>88</td>\n",
       "      <td>30/03/2019</td>\n",
       "      <td>484.0</td>\n",
       "      <td>8</td>\n",
       "      <td>16.0</td>\n",
       "      <td>8049.0</td>\n",
       "      <td>1.0</td>\n",
       "      <td>520.0</td>\n",
       "    </tr>\n",
       "    <tr>\n",
       "      <td>89</td>\n",
       "      <td>31/03/2019</td>\n",
       "      <td>329.0</td>\n",
       "      <td>11</td>\n",
       "      <td>8.0</td>\n",
       "      <td>7464.0</td>\n",
       "      <td>7464.0</td>\n",
       "      <td>202.0</td>\n",
       "    </tr>\n",
       "    <tr>\n",
       "      <td>90</td>\n",
       "      <td>01/04/2019</td>\n",
       "      <td>2.0</td>\n",
       "      <td>60</td>\n",
       "      <td>544.0</td>\n",
       "      <td>544.0</td>\n",
       "      <td>544.0</td>\n",
       "      <td>544.0</td>\n",
       "    </tr>\n",
       "  </tbody>\n",
       "</table>\n",
       "<p>91 rows × 7 columns</p>\n",
       "</div>"
      ],
      "text/plain": [
       "          Date  Stock1  Stock2  Stock3  Stock4  Stock5  Stock6\n",
       "0   01/01/2019   177.0      17    22.0   178.0   178.0   632.0\n",
       "1   02/01/2019    84.0      13    14.0   365.0   365.0   859.0\n",
       "2   03/01/2019   104.0      20    34.0  6117.0  6117.0   840.0\n",
       "3   04/01/2019    91.0      25    17.0  1451.0  1451.0   787.0\n",
       "4   05/01/2019   130.0       7    25.0  1359.0  1359.0   611.0\n",
       "..         ...     ...     ...     ...     ...     ...     ...\n",
       "86  28/03/2019   281.0      47    30.0  3348.0  3348.0   646.0\n",
       "87  29/03/2019   283.0      42    25.0  4958.0  4958.0   607.0\n",
       "88  30/03/2019   484.0       8    16.0  8049.0     1.0   520.0\n",
       "89  31/03/2019   329.0      11     8.0  7464.0  7464.0   202.0\n",
       "90  01/04/2019     2.0      60   544.0   544.0   544.0   544.0\n",
       "\n",
       "[91 rows x 7 columns]"
      ]
     },
     "execution_count": 3,
     "metadata": {},
     "output_type": "execute_result"
    }
   ],
   "source": [
    "# get stock data\n",
    "df = pd.read_csv('C:/Users/joeba/OneDrive/Documents/ML/finance/Book2.csv')\n",
    "df"
   ]
  },
  {
   "cell_type": "code",
   "execution_count": 4,
   "metadata": {},
   "outputs": [
    {
     "data": {
      "text/plain": [
       "(91, 7)"
      ]
     },
     "execution_count": 4,
     "metadata": {},
     "output_type": "execute_result"
    }
   ],
   "source": [
    "# get the number of rows and columns in the df\n",
    "df.shape"
   ]
  },
  {
   "cell_type": "code",
   "execution_count": 5,
   "metadata": {},
   "outputs": [],
   "source": [
    "from pandas.plotting import register_matplotlib_converters\n",
    "register_matplotlib_converters()"
   ]
  },
  {
   "cell_type": "code",
   "execution_count": 23,
   "metadata": {},
   "outputs": [
    {
     "data": {
      "image/png": "[encoded data removed]",
      "text/plain": [
       "<Figure size 1152x576 with 1 Axes>"
      ]
     },
     "metadata": {
      "needs_background": "light"
     },
     "output_type": "display_data"
    }
   ],
   "source": [
    "# visualise the price history\n",
    "plt.figure(figsize=(16,8))\n",
    "plt.title('Close price history')\n",
    "#plt.plot(df['Close'])\n",
    "#plt.plot(df['Stock1'])\n",
    "#plt.plot(df['Stock2'])\n",
    "plt.plot(df['Stock3'])\n",
    "#plt.plot(df['Stock4'])\n",
    "#plt.plot(df['Stock5'])\n",
    "#plt.plot(df['Stock6'])\n",
    "plt.xlabel('Date', fontsize=12)\n",
    "plt.ylabel('Close Price', fontsize=12)\n",
    "plt.show()"
   ]
  },
  {
   "cell_type": "code",
   "execution_count": 38,
   "metadata": {},
   "outputs": [
    {
     "data": {
      "text/plain": [
       "array([[2.20000000e+01],\n",
       "       [1.40000000e+01],\n",
       "       [3.40000000e+01],\n",
       "       [1.70000000e+01],\n",
       "       [2.50000000e+01],\n",
       "       [7.00000000e+00],\n",
       "       [3.35000000e+02],\n",
       "       [1.50000000e+01],\n",
       "       [1.60000000e+01],\n",
       "       [3.10000000e+01],\n",
       "       [2.10000000e+01],\n",
       "       [2.50000000e+01],\n",
       "       [1.10000000e+01],\n",
       "       [1.01600000e+03],\n",
       "       [2.70000000e+01],\n",
       "       [2.70000000e+01],\n",
       "       [5.00000000e+00],\n",
       "       [2.40000000e+01],\n",
       "       [2.10000000e+01],\n",
       "       [1.00000000e+00],\n",
       "       [7.24628571e+01],\n",
       "       [1.00000000e+01],\n",
       "       [1.80000000e+01],\n",
       "       [2.00000000e+01],\n",
       "       [9.00000000e+00],\n",
       "       [2.20000000e+01],\n",
       "       [6.00000000e+00],\n",
       "       [9.51000000e+02],\n",
       "       [2.30000000e+01],\n",
       "       [1.70000000e+01],\n",
       "       [4.80000000e+01],\n",
       "       [2.50000000e+01],\n",
       "       [2.50000000e+01],\n",
       "       [6.00000000e+00],\n",
       "       [4.02000000e+02],\n",
       "       [2.70000000e+01],\n",
       "       [3.60000000e+01],\n",
       "       [3.68000000e+02],\n",
       "       [2.70000000e+01],\n",
       "       [1.50000000e+01],\n",
       "       [9.00000000e+00],\n",
       "       [3.71000000e+02],\n",
       "       [2.30000000e+01],\n",
       "       [2.30000000e+01],\n",
       "       [2.00000000e+01],\n",
       "       [2.60000000e+01],\n",
       "       [2.00000000e+01],\n",
       "       [6.00000000e+00],\n",
       "       [2.60000000e+02],\n",
       "       [3.80000000e+01],\n",
       "       [2.40000000e+01],\n",
       "       [5.80000000e+01],\n",
       "       [4.30000000e+01],\n",
       "       [1.20000000e+01],\n",
       "       [3.00000000e+00],\n",
       "       [8.74413636e+01],\n",
       "       [1.40000000e+01],\n",
       "       [3.30000000e+01],\n",
       "       [2.90000000e+01],\n",
       "       [2.40000000e+01],\n",
       "       [1.40000000e+01],\n",
       "       [7.00000000e+00],\n",
       "       [3.90000000e+02],\n",
       "       [1.90000000e+01],\n",
       "       [1.70000000e+01],\n",
       "       [2.00000000e+01],\n",
       "       [3.20000000e+01],\n",
       "       [1.10000000e+01],\n",
       "       [2.00000000e+00],\n",
       "       [5.91900000e+03],\n",
       "       [3.60000000e+01],\n",
       "       [1.90000000e+01],\n",
       "       [4.40000000e+01],\n",
       "       [5.40000000e+01],\n",
       "       [1.70000000e+01],\n",
       "       [4.00000000e+00],\n",
       "       [2.80000000e+02],\n",
       "       [4.10000000e+01],\n",
       "       [5.40000000e+01],\n",
       "       [2.70000000e+01],\n",
       "       [2.30000000e+01],\n",
       "       [1.40000000e+01],\n",
       "       [3.04000000e+02],\n",
       "       [5.03000000e+02],\n",
       "       [1.80000000e+01],\n",
       "       [1.80000000e+01],\n",
       "       [3.00000000e+01],\n",
       "       [2.50000000e+01],\n",
       "       [1.60000000e+01],\n",
       "       [8.00000000e+00],\n",
       "       [5.44000000e+02]])"
      ]
     },
     "execution_count": 38,
     "metadata": {},
     "output_type": "execute_result"
    }
   ],
   "source": [
    "# get the close price as a 2d numpy array - using filter rather than just extracting the column\n",
    "#data=df.filter(['Close']).values\n",
    "data=df.filter(['Stock3']).values\n",
    "data"
   ]
  },
  {
   "cell_type": "code",
   "execution_count": 39,
   "metadata": {},
   "outputs": [
    {
     "data": {
      "text/plain": [
       "array([[3.54849611e-03],\n",
       "       [2.19668807e-03],\n",
       "       [5.57620818e-03],\n",
       "       [2.70361609e-03],\n",
       "       [4.05542413e-03],\n",
       "       [1.01385603e-03],\n",
       "       [5.64379858e-02],\n",
       "       [2.36566408e-03],\n",
       "       [2.53464008e-03],\n",
       "       [5.06928016e-03],\n",
       "       [3.37952011e-03],\n",
       "       [4.05542413e-03],\n",
       "       [1.68976005e-03],\n",
       "       [1.71510645e-01],\n",
       "       [4.39337614e-03],\n",
       "       [4.39337614e-03],\n",
       "       [6.75904022e-04],\n",
       "       [3.88644812e-03],\n",
       "       [3.37952011e-03],\n",
       "       [0.00000000e+00],\n",
       "       [1.20755081e-02],\n",
       "       [1.52078405e-03],\n",
       "       [2.87259209e-03],\n",
       "       [3.21054410e-03],\n",
       "       [1.35180804e-03],\n",
       "       [3.54849611e-03],\n",
       "       [8.44880027e-04],\n",
       "       [1.60527205e-01],\n",
       "       [3.71747212e-03],\n",
       "       [2.70361609e-03],\n",
       "       [7.94187225e-03],\n",
       "       [4.05542413e-03],\n",
       "       [4.05542413e-03],\n",
       "       [8.44880027e-04],\n",
       "       [6.77593782e-02],\n",
       "       [4.39337614e-03],\n",
       "       [5.91416019e-03],\n",
       "       [6.20141940e-02],\n",
       "       [4.39337614e-03],\n",
       "       [2.36566408e-03],\n",
       "       [1.35180804e-03],\n",
       "       [6.25211220e-02],\n",
       "       [3.71747212e-03],\n",
       "       [3.71747212e-03],\n",
       "       [3.21054410e-03],\n",
       "       [4.22440014e-03],\n",
       "       [3.21054410e-03],\n",
       "       [8.44880027e-04],\n",
       "       [4.37647854e-02],\n",
       "       [6.25211220e-03],\n",
       "       [3.88644812e-03],\n",
       "       [9.63163231e-03],\n",
       "       [7.09699223e-03],\n",
       "       [1.85873606e-03],\n",
       "       [3.37952011e-04],\n",
       "       [1.46065163e-02],\n",
       "       [2.19668807e-03],\n",
       "       [5.40723217e-03],\n",
       "       [4.73132815e-03],\n",
       "       [3.88644812e-03],\n",
       "       [2.19668807e-03],\n",
       "       [1.01385603e-03],\n",
       "       [6.57316661e-02],\n",
       "       [3.04156810e-03],\n",
       "       [2.70361609e-03],\n",
       "       [3.21054410e-03],\n",
       "       [5.23825617e-03],\n",
       "       [1.68976005e-03],\n",
       "       [1.68976005e-04],\n",
       "       [1.00000000e+00],\n",
       "       [5.91416019e-03],\n",
       "       [3.04156810e-03],\n",
       "       [7.26596823e-03],\n",
       "       [8.95572829e-03],\n",
       "       [2.70361609e-03],\n",
       "       [5.06928016e-04],\n",
       "       [4.71443055e-02],\n",
       "       [6.75904022e-03],\n",
       "       [8.95572829e-03],\n",
       "       [4.39337614e-03],\n",
       "       [3.71747212e-03],\n",
       "       [2.19668807e-03],\n",
       "       [5.11997296e-02],\n",
       "       [8.48259547e-02],\n",
       "       [2.87259209e-03],\n",
       "       [2.87259209e-03],\n",
       "       [4.90030416e-03],\n",
       "       [4.05542413e-03],\n",
       "       [2.53464008e-03],\n",
       "       [1.18283204e-03],\n",
       "       [9.17539709e-02]])"
      ]
     },
     "execution_count": 39,
     "metadata": {},
     "output_type": "execute_result"
    }
   ],
   "source": [
    "# scale the data\n",
    "from sklearn.preprocessing import MinMaxScaler\n",
    "scaler = MinMaxScaler(feature_range=(0,1))\n",
    "sd = scaler.fit_transform(data)\n",
    "\n",
    "sd"
   ]
  },
  {
   "cell_type": "code",
   "execution_count": 40,
   "metadata": {},
   "outputs": [],
   "source": [
    "# create the training data\n",
    "training_data_length = math.ceil(len(sd)*0.8)\n",
    "#training_data_length\n",
    "\n",
    "train_data=sd[0:training_data_length ,:]\n"
   ]
  },
  {
   "cell_type": "code",
   "execution_count": 41,
   "metadata": {},
   "outputs": [
    {
     "name": "stdout",
     "output_type": "stream",
     "text": [
      "[array([0.0035485 , 0.00219669, 0.00557621, 0.00270362, 0.00405542,\n",
      "       0.00101386, 0.05643799, 0.00236566, 0.00253464, 0.00506928,\n",
      "       0.00337952, 0.00405542, 0.00168976, 0.17151065, 0.00439338,\n",
      "       0.00439338, 0.0006759 , 0.00388645, 0.00337952, 0.        ,\n",
      "       0.01207551, 0.00152078, 0.00287259, 0.00321054, 0.00135181,\n",
      "       0.0035485 , 0.00084488, 0.16052721, 0.00371747, 0.00270362,\n",
      "       0.00794187, 0.00405542, 0.00405542, 0.00084488, 0.06775938,\n",
      "       0.00439338, 0.00591416, 0.06201419, 0.00439338, 0.00236566,\n",
      "       0.00135181, 0.06252112, 0.00371747, 0.00371747, 0.00321054,\n",
      "       0.0042244 , 0.00321054, 0.00084488, 0.04376479, 0.00625211,\n",
      "       0.00388645, 0.00963163, 0.00709699, 0.00185874, 0.00033795,\n",
      "       0.01460652, 0.00219669, 0.00540723, 0.00473133, 0.00388645])]\n",
      "[0.002196688070294018]\n",
      "\n"
     ]
    }
   ],
   "source": [
    "# set training data\n",
    "X_train = []\n",
    "y_train = []\n",
    "\n",
    "for i in range(60, training_data_length):\n",
    "    X_train.append(sd[i-60:i,0])\n",
    "    y_train.append(sd[i,0])\n",
    "    \n",
    "    if i<=60:\n",
    "        print(X_train)\n",
    "        print(y_train)\n",
    "        print()\n",
    "        \n",
    "# connvert to numpy arrays\n",
    "X_train, y_train = np.array(X_train), np.array(y_train)"
   ]
  },
  {
   "cell_type": "code",
   "execution_count": 42,
   "metadata": {},
   "outputs": [
    {
     "data": {
      "text/plain": [
       "13"
      ]
     },
     "execution_count": 42,
     "metadata": {},
     "output_type": "execute_result"
    }
   ],
   "source": [
    "X_train.shape[0]"
   ]
  },
  {
   "cell_type": "code",
   "execution_count": 43,
   "metadata": {},
   "outputs": [
    {
     "data": {
      "text/plain": [
       "(13, 60, 1)"
      ]
     },
     "execution_count": 43,
     "metadata": {},
     "output_type": "execute_result"
    }
   ],
   "source": [
    "# reshape training data to 3D array\n",
    "X_train = np.reshape(X_train, (X_train.shape[0], X_train.shape[1], 1))\n",
    "X_train.shape"
   ]
  },
  {
   "cell_type": "code",
   "execution_count": 44,
   "metadata": {},
   "outputs": [],
   "source": [
    "# build LSTM\n",
    "from keras.models import Sequential\n",
    "from keras.layers import Dense, LSTM\n",
    "lstm = Sequential()\n",
    "lstm.add(LSTM(50, return_sequences=True, input_shape=(X_train.shape[1], 1)))\n",
    "lstm.add(LSTM(50, return_sequences=False))\n",
    "lstm.add(Dense(25))\n",
    "lstm.add(Dense(1))\n",
    "         "
   ]
  },
  {
   "cell_type": "code",
   "execution_count": 45,
   "metadata": {},
   "outputs": [],
   "source": [
    "# compile the LSTM\n",
    "lstm.compile(optimizer='adam', loss='mean_squared_error')"
   ]
  },
  {
   "cell_type": "code",
   "execution_count": 46,
   "metadata": {},
   "outputs": [
    {
     "data": {
      "text/plain": [
       "<keras.callbacks.History at 0x293e6701988>"
      ]
     },
     "execution_count": 46,
     "metadata": {},
     "output_type": "execute_result"
    }
   ],
   "source": [
    "# train the LSTM\n",
    "lstm.fit(X_train, y_train, batch_size=1, epochs=1, verbose=False)"
   ]
  },
  {
   "cell_type": "code",
   "execution_count": 47,
   "metadata": {},
   "outputs": [],
   "source": [
    "# test data\n",
    "test_data = sd[training_data_length-60: , :]\n",
    "X_test = []\n",
    "y_test = data[training_data_length: , :]\n",
    "for i in range(60, len(test_data)):\n",
    "    X_test.append(test_data[i-60:i, 0])"
   ]
  },
  {
   "cell_type": "code",
   "execution_count": 48,
   "metadata": {},
   "outputs": [],
   "source": [
    "# set test set for LSTM (3d numpy array)\n",
    "X_test = np.array(X_test)\n",
    "X_test = np.reshape(X_test, (X_test.shape[0], X_test.shape[1], 1))"
   ]
  },
  {
   "cell_type": "code",
   "execution_count": 49,
   "metadata": {},
   "outputs": [],
   "source": [
    "# get the predicted values\n",
    "y_pred = lstm.predict(X_test)\n",
    "y_pred = scaler.inverse_transform(y_pred)"
   ]
  },
  {
   "cell_type": "code",
   "execution_count": 50,
   "metadata": {},
   "outputs": [
    {
     "data": {
      "image/png": "[encoded data removed]",
      "text/plain": [
       "<Figure size 1152x576 with 1 Axes>"
      ]
     },
     "metadata": {
      "needs_background": "light"
     },
     "output_type": "display_data"
    }
   ],
   "source": [
    "# visualise the price history\n",
    "plt.figure(figsize=(16,8))\n",
    "plt.title('Predicted')\n",
    "plt.plot(y_test)\n",
    "plt.plot(y_pred)\n",
    "plt.show()"
   ]
  },
  {
   "cell_type": "code",
   "execution_count": null,
   "metadata": {},
   "outputs": [],
   "source": []
  }
 ],
 "metadata": {
  "kernelspec": {
   "display_name": "Python 3",
   "language": "python",
   "name": "python3"
  },
  "language_info": {
   "codemirror_mode": {
    "name": "ipython",
    "version": 3
   },
   "file_extension": ".py",
   "mimetype": "text/x-python",
   "name": "python",
   "nbconvert_exporter": "python",
   "pygments_lexer": "ipython3",
   "version": "3.7.4"
  }
 },
 "nbformat": 4,
 "nbformat_minor": 2
}
